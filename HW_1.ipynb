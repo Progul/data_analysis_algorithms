{
 "cells": [
  {
   "cell_type": "markdown",
   "metadata": {},
   "source": [
    "### <caenter> Подготовительная часть для выполнения практического задания"
   ]
  },
  {
   "cell_type": "code",
   "execution_count": 43,
   "metadata": {
    "pycharm": {
     "name": "#%%\n"
    }
   },
   "outputs": [],
   "source": [
    "%matplotlib inline\n",
    "import numpy as np\n",
    "import matplotlib.pyplot as plt"
   ]
  },
  {
   "cell_type": "code",
   "execution_count": 44,
   "metadata": {
    "pycharm": {
     "name": "#%%\n"
    }
   },
   "outputs": [],
   "source": [
    "y = np.array([45, 55, 50, 59, 65, 35, 75, 80, 50, 60])\n",
    "\n",
    "X = np.array(\n",
    "    [\n",
    "        [1, 1, 1, 1, 1, 1, 1, 1, 1, 1],\n",
    "        [1, 1, 2, 1, 3, 0, 5, 10, 1, 2]\n",
    "    ]\n",
    ")"
   ]
  },
  {
   "cell_type": "code",
   "execution_count": 45,
   "metadata": {
    "pycharm": {
     "name": "#%%\n"
    }
   },
   "outputs": [
    {
     "data": {
      "image/png": "[encoded data removed]",
      "text/plain": [
       "<Figure size 432x288 with 1 Axes>"
      ]
     },
     "metadata": {
      "needs_background": "light"
     },
     "output_type": "display_data"
    }
   ],
   "source": [
    "plt.scatter(X[1], y)\n",
    "plt.plot(X[1], 35 * X[0] + X[1] * 5, label='model1')\n",
    "plt.plot(X[1], 40 * X[0] + X[1] * 7.5, label='model2')\n",
    "plt.legend(loc='best')\n",
    "plt.show()"
   ]
  },
  {
   "cell_type": "code",
   "execution_count": 46,
   "metadata": {
    "pycharm": {
     "name": "#%%\n"
    }
   },
   "outputs": [],
   "source": [
    "y_pred1 = np.ones(10) * 35 + X[1] * 5\n",
    "y_pred2 = np.ones(10) * 40 + X[1] * 7.5"
   ]
  },
  {
   "cell_type": "code",
   "execution_count": 47,
   "metadata": {
    "pycharm": {
     "name": "#%%\n"
    }
   },
   "outputs": [
    {
     "data": {
      "text/plain": [
       "array([40., 40., 45., 40., 50., 35., 60., 85., 40., 45.])"
      ]
     },
     "execution_count": 47,
     "metadata": {},
     "output_type": "execute_result"
    }
   ],
   "source": [
    "y_pred1"
   ]
  },
  {
   "cell_type": "code",
   "execution_count": 48,
   "metadata": {
    "pycharm": {
     "name": "#%%\n"
    }
   },
   "outputs": [
    {
     "data": {
      "text/plain": [
       "array([ 47.5,  47.5,  55. ,  47.5,  62.5,  40. ,  77.5, 115. ,  47.5,\n",
       "        55. ])"
      ]
     },
     "execution_count": 48,
     "metadata": {},
     "output_type": "execute_result"
    }
   ],
   "source": [
    "y_pred2"
   ]
  },
  {
   "cell_type": "markdown",
   "metadata": {},
   "source": [
    "$\\displaystyle MAE = \\frac{1}{l} \\sum_{i=1}^{l}|y_{i}-\\hat{y_i}|$  \n",
    "$\\displaystyle MSE = \\frac{1}{l} \\sum_{i=1}^{l}(y_{i}-\\hat{y_i})^2$"
   ]
  },
  {
   "cell_type": "code",
   "execution_count": 49,
   "metadata": {
    "pycharm": {
     "name": "#%%\n"
    }
   },
   "outputs": [],
   "source": [
    "mae_1 = np.mean(np.abs(y_pred1 - y))\n",
    "mae_2 = np.mean(np.abs(y_pred2 - y))"
   ]
  },
  {
   "cell_type": "code",
   "execution_count": 50,
   "metadata": {
    "pycharm": {
     "name": "#%%\n"
    }
   },
   "outputs": [
    {
     "data": {
      "text/plain": [
       "(10.4, 7.9)"
      ]
     },
     "execution_count": 50,
     "metadata": {},
     "output_type": "execute_result"
    }
   ],
   "source": [
    "mae_1, mae_2"
   ]
  },
  {
   "cell_type": "code",
   "execution_count": 51,
   "metadata": {
    "pycharm": {
     "name": "#%%\n"
    }
   },
   "outputs": [],
   "source": [
    "mse_1 = np.mean((y_pred1 - y) ** 2)\n",
    "mse_2 = np.mean((y_pred2 - y) ** 2)"
   ]
  },
  {
   "cell_type": "code",
   "execution_count": 52,
   "metadata": {
    "pycharm": {
     "name": "#%%\n"
    }
   },
   "outputs": [
    {
     "data": {
      "text/plain": [
       "(143.6, 151.35)"
      ]
     },
     "execution_count": 52,
     "metadata": {},
     "output_type": "execute_result"
    }
   ],
   "source": [
    "mse_1, mse_2"
   ]
  },
  {
   "cell_type": "markdown",
   "metadata": {
    "pycharm": {
     "name": "#%% md\n"
    }
   },
   "source": [
    "$MAE_1>MAE_2$ но $MSE_1<MSE_2$\n",
    "Выбор метрики:\n",
    " * $MSE$ - в случае, если есть выбросы, и они имеют значение при работе модели\n",
    " * $MAE$ - в случае, если выбросы не важны, модель должна хорошо работать на большинстве моделей"
   ]
  },
  {
   "cell_type": "markdown",
   "metadata": {},
   "source": [
    "Аналитический метод нахождения вектора весов в модели линейной регрессии:\n",
    "$w=(X^{T}\\cdot X)^{-1}\\cdot X^{T}\\cdot Y$\n",
    "\n",
    "Реализация:"
   ]
  },
  {
   "cell_type": "code",
   "execution_count": 53,
   "metadata": {
    "pycharm": {
     "name": "#%%\n"
    }
   },
   "outputs": [
    {
     "data": {
      "text/plain": [
       "array([47.23214286,  3.91071429])"
      ]
     },
     "execution_count": 53,
     "metadata": {},
     "output_type": "execute_result"
    }
   ],
   "source": [
    "W_0 = np.linalg.inv(X @ X.T) @ X @ y\n",
    "W_0\n",
    "# отличается от классического вида, поскольку у нас изначально массив\n",
    "# Х представляет собой транспонированную матрицу\n",
    "# для приведения к классическому виду необходимо изначально\n",
    "# задавать вектор признаков и вектор значений в иной размерности\n",
    "# код ниже"
   ]
  },
  {
   "cell_type": "code",
   "execution_count": 54,
   "metadata": {
    "pycharm": {
     "name": "#%%\n"
    }
   },
   "outputs": [
    {
     "data": {
      "text/plain": [
       "array([[47.23214286],\n",
       "       [ 3.91071429]])"
      ]
     },
     "execution_count": 54,
     "metadata": {},
     "output_type": "execute_result"
    }
   ],
   "source": [
    "X1 = X.swapaxes(0, 1)\n",
    "y1 = y.reshape((len(y), -1))\n",
    "W1 = np.linalg.inv(X1.T @ X1) @ X1.T @ y1\n",
    "W1"
   ]
  },
  {
   "cell_type": "code",
   "execution_count": 55,
   "metadata": {
    "pycharm": {
     "name": "#%%\n"
    }
   },
   "outputs": [
    {
     "data": {
      "text/plain": [
       "array([[ 10,  26],\n",
       "       [ 26, 146]])"
      ]
     },
     "execution_count": 55,
     "metadata": {},
     "output_type": "execute_result"
    }
   ],
   "source": [
    "# ковариационная матрица\n",
    "np.dot(X, X.T)\n",
    "#np.dot(X1.T,X1)"
   ]
  },
  {
   "cell_type": "code",
   "execution_count": 56,
   "metadata": {
    "pycharm": {
     "name": "#%%\n"
    }
   },
   "outputs": [
    {
     "data": {
      "image/png": "[encoded data removed]",
      "text/plain": [
       "<Figure size 432x288 with 1 Axes>"
      ]
     },
     "metadata": {
      "needs_background": "light"
     },
     "output_type": "display_data"
    }
   ],
   "source": [
    "plt.scatter(X[1], y)\n",
    "plt.plot(X[1], y_pred1, label='model1')\n",
    "plt.plot(X[1], 40 * np.ones(10) + X[1] * 7.5, label='model2')\n",
    "plt.plot(X[1], W_0[0] + W_0[1] * X[1], label='analytic_model')\n",
    "plt.legend(loc='best')\n",
    "plt.show()"
   ]
  },
  {
   "cell_type": "code",
   "execution_count": 57,
   "metadata": {
    "pycharm": {
     "name": "#%%\n"
    }
   },
   "outputs": [],
   "source": [
    "y_pred3 = W_0[0] + W_0[1] * X[1]"
   ]
  },
  {
   "cell_type": "code",
   "execution_count": 58,
   "metadata": {
    "pycharm": {
     "name": "#%%\n"
    }
   },
   "outputs": [],
   "source": [
    "def calc_mae(y, y_pred):\n",
    "    err = np.mean(np.abs(y - y_pred))\n",
    "    return err"
   ]
  },
  {
   "cell_type": "code",
   "execution_count": 59,
   "metadata": {
    "pycharm": {
     "name": "#%%\n"
    }
   },
   "outputs": [],
   "source": [
    "def calc_mse(y, y_pred):\n",
    "    err = np.mean((y - y_pred) ** 2)\n",
    "    return err"
   ]
  },
  {
   "cell_type": "code",
   "execution_count": 60,
   "metadata": {
    "pycharm": {
     "name": "#%%\n"
    }
   },
   "outputs": [
    {
     "data": {
      "text/plain": [
       "(10.4, 7.9, 6.182142857142858)"
      ]
     },
     "execution_count": 60,
     "metadata": {},
     "output_type": "execute_result"
    }
   ],
   "source": [
    "calc_mae(y, y_pred1), calc_mae(y, y_pred2), calc_mae(y, y_pred3)"
   ]
  },
  {
   "cell_type": "code",
   "execution_count": 61,
   "metadata": {
    "pycharm": {
     "name": "#%%\n"
    }
   },
   "outputs": [
    {
     "data": {
      "text/plain": [
       "(143.6, 151.35, 45.93749999999999)"
      ]
     },
     "execution_count": 61,
     "metadata": {},
     "output_type": "execute_result"
    }
   ],
   "source": [
    "calc_mse(y, y_pred1), calc_mse(y, y_pred2), calc_mse(y, y_pred3)\n"
   ]
  },
  {
   "cell_type": "markdown",
   "metadata": {
    "pycharm": {
     "name": "#%% md\n"
    }
   },
   "source": [
    "Аналитическая формула имеет недостатки использования при вычислении весов линейной\n",
    "модели в следствии того, что вычисление обратной матрицы при большом количестве признаков\n",
    "имеет высокую вычислительную сложность."
   ]
  },
  {
   "cell_type": "markdown",
   "metadata": {},
   "source": [
    "## <center> Практическое задание"
   ]
  },
  {
   "cell_type": "markdown",
   "metadata": {},
   "source": [
    "**1. Подберите скорость обучения($\\alpha$) и количество итераций:**"
   ]
  },
  {
   "cell_type": "code",
   "execution_count": 62,
   "metadata": {
    "pycharm": {
     "name": "#%%\n"
    }
   },
   "outputs": [
    {
     "data": {
      "text/plain": [
       "(array([1. , 0.5]), 0.0001)"
      ]
     },
     "execution_count": 62,
     "metadata": {},
     "output_type": "execute_result"
    }
   ],
   "source": [
    "n = X.shape[1]\n",
    "alpha = 1e-04\n",
    "\n",
    "W = np.array([1, 0.5])\n",
    "W, alpha"
   ]
  },
  {
   "cell_type": "code",
   "execution_count": null,
   "metadata": {},
   "outputs": [],
   "source": []
  },
  {
   "cell_type": "code",
   "execution_count": 63,
   "metadata": {
    "pycharm": {
     "name": "#%%\n"
    }
   },
   "outputs": [
    {
     "name": "stdout",
     "output_type": "stream",
     "text": [
      "0 [1.01102 0.534  ] 3173.15\n",
      "100 [2.02168794 3.452835  ] 2207.6942101483005\n",
      "200 [2.88306663 5.58962851] 1670.7027004086372\n",
      "300 [3.63289519 7.14848061] 1368.0832412796256\n",
      "400 [4.29908617 8.28027926] 1193.7493344933293\n",
      "500 [4.90228732 9.09657298] 1089.714750358689\n",
      "600 [5.45777535 9.67982684] 1024.2828984889416\n",
      "700 [ 5.97685612 10.0910047 ] 980.1260644155933\n",
      "800 [ 6.46789973 10.37517467] 947.770026039189\n",
      "900 [ 6.93710574 10.56565326] 922.0330206910179\n",
      "1000 [ 7.38906894 10.68706909] 900.0794345405571\n",
      "1100 [ 7.82719761 10.75762786] 880.3560305497828\n",
      "1200 [ 8.25402271 10.7907869 ] 862.0105344693482\n",
      "1300 [ 8.67142649 10.79649311] 844.5738572427321\n",
      "1400 [ 9.08081151 10.78209811] 827.7864098809556\n"
     ]
    }
   ],
   "source": [
    "for i in range(1500):\n",
    "    y_pred = W @ X\n",
    "    err = calc_mse(y, y_pred)\n",
    "    for ii in range(W.shape[0]):\n",
    "        W[ii] -= alpha * (1 / n * 2 * np.sum(X[ii] * (y_pred - y)))\n",
    "    if i % 100 == 0:\n",
    "        print(i, W, err)"
   ]
  },
  {
   "cell_type": "markdown",
   "metadata": {},
   "source": [
    "Решение:"
   ]
  },
  {
   "cell_type": "code",
   "execution_count": 64,
   "metadata": {
    "pycharm": {
     "name": "#%%\n"
    }
   },
   "outputs": [],
   "source": [
    "def grad_desc(X, y, alpha=1e-04, verbose=False, tol=0.0):\n",
    "    '''\n",
    "\n",
    "    :param X: features array\n",
    "    :param y: target array\n",
    "    :param alpha: learning rate, float default=1e-04\n",
    "    :param verbose: prints progress and performance once in a while, bool default False\n",
    "    :param tol: when mse is not improving by at least tol, the searching stops, float default 0.0\n",
    "    :return: weights array, mse\n",
    "    '''\n",
    "    n = X.shape[1]\n",
    "    W = np.array([1, 0.5])  # задаём начальное значение весов\n",
    "    min_err = float('inf')  #начальное значение ошибки модели - бесконечность\n",
    "    n_iter = 0  # отслеживаем количество итераций\n",
    "    stop_chek = True  #будем чекать снижение ошибки\n",
    "    while stop_chek:\n",
    "        n_iter += 1\n",
    "        y_pred = W @ X\n",
    "        err = calc_mse(y, y_pred)\n",
    "        if min_err - err > tol:  # контролируем текущее значение ошибки\n",
    "            min_err = err\n",
    "        else:  # если снижение прекратилось, останавливаемся.\n",
    "            print(\n",
    "                f'Stop descent! iteration: {n_iter}, weights: {W}, mse: {min_err}')\n",
    "            stop_chek = False\n",
    "        for ii in range(W.shape[0]):\n",
    "            W[ii] -= alpha * (1 / n * 2 * np.sum(X[ii] * (y_pred - y)))\n",
    "        if verbose:\n",
    "            if n_iter % 100 == 0:\n",
    "                print(n_iter, W, err)\n",
    "    return W, min_err"
   ]
  },
  {
   "cell_type": "code",
   "execution_count": 65,
   "metadata": {
    "pycharm": {
     "name": "#%%\n"
    }
   },
   "outputs": [
    {
     "name": "stdout",
     "output_type": "stream",
     "text": [
      "100 [47.16186867  3.92369094] 45.940520074317476\n",
      "200 [47.23203087  3.91073496] 45.93750000766935\n",
      "Stop descent! iteration: 287, weights: [47.23214242  3.91071437], mse: 45.9375000000001\n"
     ]
    },
    {
     "data": {
      "text/plain": [
       "(array([47.23214244,  3.91071436]), 45.9375000000001)"
      ]
     },
     "execution_count": 65,
     "metadata": {},
     "output_type": "execute_result"
    }
   ],
   "source": [
    "W_1, mse_1 = grad_desc(X, y, alpha=0.06, verbose=True)\n",
    "W_1, mse_1"
   ]
  },
  {
   "cell_type": "markdown",
   "metadata": {},
   "source": [
    "при $\\alpha = 0.06$ максимально приблизились к минимуму за $287$ итераций."
   ]
  },
  {
   "cell_type": "markdown",
   "metadata": {},
   "source": [
    "Визуализируем на графике:"
   ]
  },
  {
   "cell_type": "code",
   "execution_count": 66,
   "metadata": {
    "pycharm": {
     "name": "#%%\n"
    }
   },
   "outputs": [
    {
     "data": {
      "image/png": "[encoded data removed]",
      "text/plain": [
       "<Figure size 1152x576 with 1 Axes>"
      ]
     },
     "metadata": {
      "needs_background": "light"
     },
     "output_type": "display_data"
    }
   ],
   "source": [
    "plt.figure(figsize=(16, 8))\n",
    "plt.scatter(X[1], y)\n",
    "plt.plot(X[1], y_pred1, label='model1')\n",
    "plt.plot(X[1], 40 * np.ones(10) + X[1] * 7.5, label='model2')\n",
    "plt.plot(X[1], W_0[0] + W_0[1] * X[1], label='analytic_model')\n",
    "plt.plot(X[1], W_1[0] + W_1[1] * X[1], label='gd_model')\n",
    "plt.legend(loc='best')\n",
    "plt.show()"
   ]
  },
  {
   "cell_type": "markdown",
   "metadata": {},
   "source": [
    "Видим, что линия регрессии полученная аналитическим методом, и методом градиентного спуска перекрывают друг друга."
   ]
  },
  {
   "cell_type": "markdown",
   "metadata": {},
   "source": [
    "**2\\*. В этом коде мы избавляемся от итераций по весам, но тут есть ошибка, исправьте ее:**"
   ]
  },
  {
   "cell_type": "code",
   "execution_count": 67,
   "metadata": {
    "pycharm": {
     "name": "#%%\n"
    },
    "scrolled": true
   },
   "outputs": [
    {
     "name": "stdout",
     "output_type": "stream",
     "text": [
      "0 [28.012 27.512] 3173.15\n",
      "10 [920.8133364 920.3133364] 7679999.8091257615\n",
      "20 [51047.7040571 51047.2040571] 24207581874.947384\n",
      "30 [2865453.40763741 2865452.90763741] 76310318597570.66\n",
      "40 [1.60882026e+08 1.60882025e+08] 2.405554149003308e+17\n",
      "50 [9.03282155e+09 9.03282155e+09] 7.583103923808175e+20\n",
      "60 [5.07153428e+11 5.07153428e+11] 2.390445675192988e+24\n",
      "70 [2.84744471e+13 2.84744471e+13] 7.535477007124056e+27\n",
      "80 [1.59871568e+15 1.59871568e+15] 2.3754320926080417e+31\n",
      "90 [8.97608944e+16 8.97608944e+16] 7.488149219031011e+34\n",
      "100 [5.03968168e+18 5.03968168e+18] 2.3605128052686846e+38\n",
      "110 [2.82956087e+20 2.82956087e+20] 7.44111868080331e+41\n",
      "120 [1.58867469e+22 1.58867469e+22] 2.3456872209383125e+45\n",
      "130 [8.91971365e+23 8.91971365e+23] 7.394383525514881e+48\n",
      "140 [5.00802914e+25 5.00802914e+25] 2.3309547510999474e+52\n",
      "150 [2.81178936e+27 2.81178936e+27] 7.347941897965175e+55\n",
      "160 [1.57869676e+29 1.57869676e+29] 2.316314810932889e+59\n",
      "170 [8.86369194e+30 8.86369194e+30] 7.301791954605485e+62\n",
      "180 [4.9765754e+32 4.9765754e+32] 2.3017668192894926e+66\n",
      "190 [2.79412946e+34 2.79412946e+34] 7.255931863465873e+69\n",
      "200 [1.5687815e+36 1.5687815e+36] 2.287310198672113e+73\n",
      "210 [8.80802208e+37 8.80802208e+37] 7.210359804082352e+76\n",
      "220 [4.94531921e+39 4.94531921e+39] 2.2729443752101776e+80\n",
      "230 [2.77658047e+41 2.77658047e+41] 7.165073967424703e+83\n",
      "240 [1.55892851e+43 1.55892851e+43] 2.258668778637391e+87\n",
      "250 [8.75270186e+44 8.75270186e+44] 7.120072555824519e+90\n",
      "260 [4.91425933e+46 4.91425933e+46] 2.2444828422691077e+94\n",
      "270 [2.75914171e+48 2.75914171e+48] 7.075353782904018e+97\n",
      "280 [1.54913741e+50 1.54913741e+50] 2.2303860029798376e+101\n"
     ]
    }
   ],
   "source": [
    "n = X.shape[1]\n",
    "alpha = 0.06 # будем использовать подобранные нами значения alpha и оптимальное количество итераций\n",
    "\n",
    "W = np.array([1, 0.5])\n",
    "\n",
    "for i in range(287):\n",
    "    y_pred = np.dot(W, X)\n",
    "    err = calc_mse(y, y_pred)\n",
    "    # for ii in range(W.shape[0]):\n",
    "    # W[ii] -= alpha * (1/n * 2 * np.sum(X[ii] * (y_pred - y)))'''\n",
    "    W -= (alpha * (1 / n * 2 * np.sum(X * (y_pred - y))))\n",
    "    if i % 10 == 0:\n",
    "        print(i, W, err)\n"
   ]
  },
  {
   "cell_type": "markdown",
   "metadata": {},
   "source": [
    "Решение:"
   ]
  },
  {
   "cell_type": "code",
   "execution_count": 68,
   "metadata": {},
   "outputs": [
    {
     "name": "stdout",
     "output_type": "stream",
     "text": [
      "0 [ 7.612 20.9  ] 3173.15\n",
      "10 [25.72983979  9.05170097] 364.6834436471203\n",
      "20 [35.85695572  6.15284752] 125.86627725452965\n",
      "30 [41.24888118  5.03270471] 67.8592661647404\n",
      "40 [44.0891315   4.49316871] 51.980145468359524\n",
      "50 [45.5816168   4.21574742] 47.60357573538611\n",
      "60 [46.3654434   4.07078732] 46.39687623882493\n",
      "70 [46.77704197  3.99475582] 46.06416092142592\n",
      "80 [46.99317184  3.95484256] 45.972423420722386\n",
      "90 [47.10666058  3.9338856 ] 45.9471292155766\n",
      "100 [47.16625286  3.92288138] 45.94015500316733\n",
      "110 [47.19754441  3.91710315] 45.93823204735757\n",
      "120 [47.21397542  3.91406904] 45.93770184282277\n",
      "130 [47.22260325  3.91247585] 45.93755565285454\n",
      "140 [47.22713366  3.91163927] 45.93751534481224\n",
      "150 [47.22951256  3.91119999] 45.93750423092875\n",
      "160 [47.2307617   3.91096933] 45.93750116656743\n",
      "170 [47.23141762  3.91084821] 45.93750032165032\n",
      "180 [47.23176204  3.91078461] 45.937500088686626\n",
      "190 [47.23194289  3.91075121] 45.937500024453016\n",
      "200 [47.23203786  3.91073367] 45.937500006742255\n",
      "210 [47.23208772  3.91072447] 45.93750000185901\n",
      "220 [47.23211391  3.91071963] 45.93750000051257\n",
      "230 [47.23212766  3.91071709] 45.9375000001413\n",
      "240 [47.23213487  3.91071576] 45.93750000003897\n",
      "250 [47.23213867  3.91071506] 45.93750000001074\n",
      "260 [47.23214066  3.91071469] 45.937500000002956\n",
      "270 [47.2321417  3.9107145] 45.93750000000081\n",
      "280 [47.23214225  3.9107144 ] 45.93750000000022\n"
     ]
    }
   ],
   "source": [
    "n = X.shape[1]\n",
    "alpha = 0.06\n",
    "\n",
    "W = np.array([1, 0.5])\n",
    "\n",
    "for i in range(287):\n",
    "    y_pred = np.dot(W, X)\n",
    "    err = calc_mse(y, y_pred)\n",
    "    # for ii in range(W.shape[0]):\n",
    "    # W[ii] -= alpha * (1/n * 2 * np.sum(X[ii] * (y_pred - y)))'''\n",
    "    W -= (alpha * (1 / n * 2 * np.sum(X * (y_pred - y), axis=1))) # установим параметр axis=1 в функции np.sum()\n",
    "    if i % 10 == 0:\n",
    "        print(i, W, err)"
   ]
  },
  {
   "cell_type": "markdown",
   "metadata": {},
   "source": [
    "На основании решения задач, функция градиентного спуска примет окончательный вид:"
   ]
  },
  {
   "cell_type": "code",
   "execution_count": 69,
   "metadata": {
    "pycharm": {
     "name": "#%%\n"
    }
   },
   "outputs": [],
   "source": [
    "def my_grad_desc(X, y, alpha=1e-04, verbose=False, tol=0.0):\n",
    "    '''\n",
    "    :param X: features array\n",
    "    :param y: target array\n",
    "    :param alpha: learning rate, float default=1e-04\n",
    "    :param verbose: prints progress and performance once in a while, bool default False\n",
    "    :param tol: when mse is not improving by at least tol, the searching stops, float default 0.0\n",
    "    :return: weights array, mse\n",
    "    \n",
    "    '''\n",
    "    n = X.shape[1]\n",
    "    W = np.array([1, 0.5])  # задаём начальное значение весов\n",
    "    min_err = float('inf')  #начальное значение ошибки модели - бесконечность\n",
    "    n_iter = 0  # отслеживаем количество итераций\n",
    "    stop_chek = True  #будем чекать снижение ошибки\n",
    "    while stop_chek:\n",
    "        n_iter += 1\n",
    "        y_pred = W @ X\n",
    "        err = calc_mse(y, y_pred)\n",
    "        if min_err - err > tol:  # контролируем текущее значение ошибки\n",
    "            min_err = err\n",
    "        else:  # если снижение прекратилось, останавливаемся.\n",
    "            print(\n",
    "                f'Stop descent! iteration: {n_iter}, weights: {W}, mse: {min_err}')\n",
    "            stop_chek = False\n",
    "        W -= alpha * (1 / n * 2 * np.sum(X * (y_pred - y), axis=1))\n",
    "        if verbose:\n",
    "            if n_iter % 100 == 0:\n",
    "                print(n_iter, W, err)\n",
    "    return W, min_err"
   ]
  },
  {
   "cell_type": "code",
   "execution_count": 70,
   "metadata": {
    "pycharm": {
     "name": "#%%\n"
    }
   },
   "outputs": [
    {
     "name": "stdout",
     "output_type": "stream",
     "text": [
      "100 [47.16186867  3.92369094] 45.940520074317476\n",
      "200 [47.23203087  3.91073496] 45.93750000766935\n",
      "Stop descent! iteration: 287, weights: [47.23214242  3.91071437], mse: 45.9375000000001\n"
     ]
    },
    {
     "data": {
      "text/plain": [
       "(array([47.23214244,  3.91071436]), 45.9375000000001)"
      ]
     },
     "execution_count": 70,
     "metadata": {},
     "output_type": "execute_result"
    }
   ],
   "source": [
    "W_1, mse_1 = my_grad_desc(X, y, alpha=0.06, verbose=True)\n",
    "W_1, mse_1"
   ]
  }
 ],
 "metadata": {
  "kernelspec": {
   "display_name": "Python 3",
   "language": "python",
   "name": "python3"
  },
  "language_info": {
   "codemirror_mode": {
    "name": "ipython",
    "version": 3
   },
   "file_extension": ".py",
   "mimetype": "text/x-python",
   "name": "python",
   "nbconvert_exporter": "python",
   "pygments_lexer": "ipython3",
   "version": "3.8.5"
  }
 },
 "nbformat": 4,
 "nbformat_minor": 1
}
