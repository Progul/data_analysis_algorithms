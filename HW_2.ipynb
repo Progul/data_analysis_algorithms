{
 "cells": [
  {
   "cell_type": "markdown",
   "metadata": {},
   "source": [
    "## <center> Практическое задание к лекции №2"
   ]
  },
  {
   "cell_type": "markdown",
   "metadata": {},
   "source": [
    "**1.** Сгенерировать датасет при помощи *sklearn.datasets.make_regression* и\n",
    "обучить линейную модель при помощи градиентного и стохастического градиентного\n",
    "спуска. Нанести среднеквадратичную ошибку для обоих методов на один график,\n",
    "сделать выводы о разнице скорости сходимости каждого из методов."
   ]
  },
  {
   "cell_type": "code",
   "execution_count": 1,
   "metadata": {
    "pycharm": {
     "name": "#%%\n"
    }
   },
   "outputs": [],
   "source": [
    "import numpy as np\n",
    "import pandas as pd\n",
    "import matplotlib.pyplot as plt\n",
    "from sklearn.datasets import make_regression\n",
    "\n",
    "%matplotlib inline"
   ]
  },
  {
   "cell_type": "code",
   "execution_count": 2,
   "metadata": {
    "pycharm": {
     "name": "#%%\n"
    }
   },
   "outputs": [],
   "source": [
    "X, y, W_default = make_regression(\n",
    "    n_features=10,\n",
    "    bias=3.5,\n",
    "    noise=1.2,\n",
    "    coef=True,\n",
    "    random_state=42\n",
    ")"
   ]
  },
  {
   "cell_type": "markdown",
   "metadata": {},
   "source": [
    "Вектор весов данной модели"
   ]
  },
  {
   "cell_type": "code",
   "execution_count": 3,
   "metadata": {
    "pycharm": {
     "name": "#%%\n"
    }
   },
   "outputs": [
    {
     "data": {
      "text/plain": [
       "array([16.74825823, 54.12963353,  5.19712837, 63.64302495, 93.62122462,\n",
       "       70.64757265, 87.09691237, 10.45678403,  3.15861448, 70.90605195])"
      ]
     },
     "execution_count": 3,
     "metadata": {},
     "output_type": "execute_result"
    }
   ],
   "source": [
    "W_default"
   ]
  },
  {
   "cell_type": "markdown",
   "metadata": {},
   "source": [
    "Расчитаем предсказания модели"
   ]
  },
  {
   "cell_type": "code",
   "execution_count": 4,
   "metadata": {
    "pycharm": {
     "name": "#%%\n"
    },
    "scrolled": true
   },
   "outputs": [],
   "source": [
    "y_pred_default = X @ W_default\n"
   ]
  },
  {
   "cell_type": "markdown",
   "metadata": {},
   "source": [
    "Посчитаем $MSE$"
   ]
  },
  {
   "cell_type": "code",
   "execution_count": 5,
   "metadata": {
    "pycharm": {
     "name": "#%%\n"
    }
   },
   "outputs": [],
   "source": [
    "def calc_mse(y, y_pred):\n",
    "    err = np.mean((y - y_pred) ** 2)\n",
    "    return err"
   ]
  },
  {
   "cell_type": "code",
   "execution_count": 6,
   "metadata": {
    "pycharm": {
     "name": "#%%\n"
    }
   },
   "outputs": [
    {
     "data": {
      "text/plain": [
       "14.867688515340433"
      ]
     },
     "execution_count": 6,
     "metadata": {},
     "output_type": "execute_result"
    }
   ],
   "source": [
    "mse_default = calc_mse(y, y_pred_default)\n",
    "mse_default"
   ]
  },
  {
   "cell_type": "markdown",
   "metadata": {},
   "source": [
    "Попробуем оптимизировать модель при помощи градиентного спуска: "
   ]
  },
  {
   "cell_type": "code",
   "execution_count": 7,
   "metadata": {
    "pycharm": {
     "name": "#%%\n"
    }
   },
   "outputs": [],
   "source": [
    "def my_grad_desc(X, y, alpha=1e-04, verbose=False, tol=0.0):\n",
    "    '''\n",
    "    :param X: features array\n",
    "    :param y: target array\n",
    "    :param alpha: learning rate, float default=1e-04\n",
    "    :param verbose: prints progress and performance once in a while, bool default False\n",
    "    :param tol: when mse is not improving by at least tol, the searching stops, float default 0.0\n",
    "    :return: weights array, mse\n",
    "\n",
    "    '''\n",
    "    n = X.shape[0]\n",
    "    W = np.random.randn(X.shape[1], )  # задаём начальное значение весов\n",
    "    min_err = float('inf')  #начальное значение ошибки модели - бесконечность\n",
    "    n_iter = 0  # отслеживаем количество итераций\n",
    "    stop_chek = True  #будем чекать снижение ошибки\n",
    "    errors = []  # добавлено для визуализации кривой обучения\n",
    "    while stop_chek:\n",
    "        n_iter += 1\n",
    "        y_pred = W @ X.T\n",
    "        err = calc_mse(y, y_pred)\n",
    "        errors.append(err)\n",
    "        if min_err - err > tol:  # контролируем текущее значение ошибки\n",
    "            min_err = err\n",
    "        else:  # если снижение прекратилось, останавливаемся.\n",
    "            print(\n",
    "                f'Stop descent! iteration: {n_iter}, weights: {W}, mse: {min_err}')\n",
    "            stop_chek = False\n",
    "        W -= alpha * (1 / n * 2 * np.sum(X.T * (y_pred - y), axis=1))\n",
    "        if verbose:\n",
    "            if n_iter % 100 == 0:\n",
    "                print(n_iter, W, err)\n",
    "    return W, min_err, errors"
   ]
  },
  {
   "cell_type": "code",
   "execution_count": 8,
   "metadata": {
    "pycharm": {
     "name": "#%%\n"
    }
   },
   "outputs": [
    {
     "name": "stdout",
     "output_type": "stream",
     "text": [
      "Stop descent! iteration: 6764, weights: [17.0186161  54.47013129  4.75424543 63.30976693 93.39788214 71.04150391\n",
      " 86.98578648 10.23644609  3.5111623  70.81225375], mse: 14.301239879776745\n"
     ]
    }
   ],
   "source": [
    "W_1, mse_1, score_1 = my_grad_desc(X, y, alpha=0.001, tol=0.00001)"
   ]
  },
  {
   "cell_type": "markdown",
   "metadata": {},
   "source": [
    "Реализуем $SGD$:"
   ]
  },
  {
   "cell_type": "code",
   "execution_count": 9,
   "metadata": {
    "pycharm": {
     "name": "#%%\n"
    }
   },
   "outputs": [],
   "source": [
    "def my_sgd(X, y, alpha=1e-04, batch_size=1, n_epoch=1e+06, verbose=False, tol=0.0):\n",
    "    '''\n",
    "    :param X: features array\n",
    "    :param y: target array\n",
    "    :param alpha: learning rate, float default 1e-04\n",
    "    :param batch_size: bath_size, int default 1\n",
    "    :param n_epoh: number of training epochs, int default 1e+06\n",
    "    :param verbose: prints progress and performance once in a while, bool default False\n",
    "    :param tol: when mse is not improving by at least tol, the searching stops, float default 0.0\n",
    "    :return: weights array, mse\n",
    "    the function stops when the tol or n_epoch parameter is reached\n",
    "    \n",
    "    '''\n",
    "    n = X.shape[0]\n",
    "    W = np.random.randn(X.shape[1], )  # задаём начальное значение весов\n",
    "    n_batch = n // batch_size  # определяем количество батчей\n",
    "    if n % batch_size != 0:\n",
    "        n_batch += 1\n",
    "    min_err = float('inf')  #начальное значение ошибки модели - бесконечность\n",
    "    n_iter = 0  # отслеживаем количество итераций\n",
    "    stop_chek = True  #будем чекать снижение ошибки\n",
    "    errors = []  # добавлено для визуализации кривой обучения\n",
    "    while stop_chek:\n",
    "        n_iter += 1\n",
    "        for b in range(n_batch):\n",
    "            start_ = batch_size * b\n",
    "            end_ = batch_size * (b + 1)\n",
    "            X_tmp = X.T[:, start_: end_]\n",
    "            y_tmp = y[start_: end_]\n",
    "            y_pred = W @ X_tmp\n",
    "            err = calc_mse(y_tmp, y_pred)\n",
    "            W -= alpha * (1 / n * 2 * (y_pred - y_tmp) @ X_tmp.T)\n",
    "        errors.append(err)\n",
    "        if verbose:\n",
    "            if n_iter % 1000 == 0:\n",
    "                print(n_iter, W, err)\n",
    "        if n_iter==n_epoch:                      # остановка по достижении n_epoch\n",
    "            print(\n",
    "                f'Stop descent! n_epoch: {n_iter}, weights: {W}, mse: {min_err}')\n",
    "            stop_chek = False\n",
    "        if np.abs(min_err - err) > tol:          # контролируем текущее значение ошибки\n",
    "            min_err = err if err<=min_err else min_err\n",
    "        else:                                    # остановка по достижении tol\n",
    "            print(\n",
    "                f'Stop descent! n_epoch: {n_iter}, weights: {W}, mse: {min_err}')\n",
    "            stop_chek = False\n",
    "        \n",
    "    return W, min_err, errors"
   ]
  },
  {
   "cell_type": "code",
   "execution_count": 10,
   "metadata": {
    "pycharm": {
     "name": "#%%\n"
    }
   },
   "outputs": [
    {
     "name": "stdout",
     "output_type": "stream",
     "text": [
      "Stop descent! n_epoch: 5546, weights: [17.03599862 54.51871148  4.68761001 63.30907217 93.3325162  71.12505878\n",
      " 86.89597673 10.13664682  3.53865575 70.69816707], mse: 11.000505297544208\n"
     ]
    }
   ],
   "source": [
    "W_2, mse_2, score_2 = my_sgd(X, y, alpha=0.001, batch_size=1, n_epoch=8000, tol=0.00001)"
   ]
  },
  {
   "cell_type": "code",
   "execution_count": 11,
   "metadata": {
    "pycharm": {
     "name": "#%%\n"
    },
    "scrolled": true
   },
   "outputs": [
    {
     "data": {
      "image/png": "[encoded data removed]",
      "text/plain": [
       "<Figure size 1152x720 with 1 Axes>"
      ]
     },
     "metadata": {
      "needs_background": "light"
     },
     "output_type": "display_data"
    }
   ],
   "source": [
    "plt.figure(figsize=(16, 10))\n",
    "plt.ylim((0,2000))\n",
    "plt.xlim((0,len(score_1)-1000))\n",
    "plt.plot([x for x in range(len(score_1))], score_1, label='GD-method')\n",
    "plt.plot([x for x in range(len(score_2))], score_2, c='r', label='SGD-method')\n",
    "plt.axhline(mse_default, c='gray', ls='--', label=r'calculated indicator $MSE$', mew=0.9)\n",
    "plt.xlabel('iteratoin number')\n",
    "plt.xticks(list(plt.xticks()[0])+[len(score_1), len(score_2)])\n",
    "plt.ylabel(r'$MSE$')\n",
    "plt.legend()\n",
    "plt.show()"
   ]
  },
  {
   "cell_type": "code",
   "execution_count": 12,
   "metadata": {},
   "outputs": [
    {
     "data": {
      "text/plain": [
       "6764"
      ]
     },
     "execution_count": 12,
     "metadata": {},
     "output_type": "execute_result"
    }
   ],
   "source": [
    "len(score_1)"
   ]
  },
  {
   "cell_type": "markdown",
   "metadata": {},
   "source": [
    "На основании графиков можно сделать вывод что примерно до 800-й итерации $SGD$ 'расходился'(значение $MSE$ росло), затем, до уроня 2300-2400 итераций оба алгоритма сходились, при этом скорость схождения $GD$ была выше, чем у $SGD$. Однако затем скорости уравнялись, и $SGD$ сошелся раньше чем $GD$ (5538 итераций против 6746).  \n",
    "\n",
    "---"
   ]
  },
  {
   "cell_type": "markdown",
   "metadata": {},
   "source": [
    "**2.** Модифицировать решение первого задания путем добавления 𝐿2 -регуляризации (в функцию, считающую MSE, нужно добавить норму вектора весов) и сравнить результаты."
   ]
  },
  {
   "cell_type": "code",
   "execution_count": 13,
   "metadata": {},
   "outputs": [],
   "source": [
    "# L2 (Евклидова) норма вектора\n",
    "def euclid(vec):\n",
    "    norm=0\n",
    "    for i in vec:\n",
    "        norm+=i**2\n",
    "    return norm**0.5"
   ]
  },
  {
   "cell_type": "markdown",
   "metadata": {},
   "source": [
    "Подкорректируем функции $GD$ и $SGD$:"
   ]
  },
  {
   "cell_type": "code",
   "execution_count": 14,
   "metadata": {},
   "outputs": [],
   "source": [
    "def my_grad_desc_reg(X, y, alpha=1e-04, verbose=False, tol=0.0, lambda_=0.0):\n",
    "    '''\n",
    "    added L2 regularization\n",
    "    :param X: features array\n",
    "    :param y: target array\n",
    "    :param alpha: learning rate, float default 1e-04\n",
    "    :param verbose: prints progress and performance once in a while, bool default False\n",
    "    :param tol: when mse is not improving by at least tol, the searching stops, float default 0.0\n",
    "    :param lambda_: regularization factor float default 0.0 \n",
    "    :return: weights array, mse\n",
    "\n",
    "    '''\n",
    "    n = X.shape[0]\n",
    "    W = np.random.randn(X.shape[1], )  # задаём начальное значение весов\n",
    "    min_err = float('inf')  #начальное значение ошибки модели - бесконечность\n",
    "    n_iter = 0  # отслеживаем количество итераций\n",
    "    stop_chek = True  #будем чекать снижение ошибки\n",
    "    errors = []  # добавлено для визуализации кривой обучения\n",
    "    while stop_chek:\n",
    "        n_iter += 1\n",
    "        y_pred = W @ X.T\n",
    "        err = calc_mse(y, y_pred)+lambda_*euclid(W) # добавляем в расчет ошибки фактор L2 регуляризации\n",
    "        errors.append(err)\n",
    "        if min_err - err > tol:  # контролируем текущее значение ошибки\n",
    "            min_err = err\n",
    "        else:  # если снижение прекратилось, останавливаемся.\n",
    "            print(\n",
    "                f'Stop descent! iteration: {n_iter}, weights: {W}, mse: {min_err}')\n",
    "            stop_chek = False\n",
    "        W -= alpha * (1 / n * 2 * np.sum(X.T * (y_pred - y), axis=1))+lambda_*W # добавим коэфф. лямбда для расчёта весов\n",
    "        if verbose:\n",
    "            if n_iter % 1000 == 0:\n",
    "                print(n_iter, W, err)\n",
    "    return W, min_err, errors"
   ]
  },
  {
   "cell_type": "code",
   "execution_count": 15,
   "metadata": {},
   "outputs": [
    {
     "name": "stdout",
     "output_type": "stream",
     "text": [
      "Stop descent! iteration: 6794, weights: [17.0185576  54.46683352  4.75452321 63.30672661 93.39289484 71.03859088\n",
      " 86.98266324 10.2348001   3.51158025 70.80891754], mse: 14.301649483531746\n"
     ]
    }
   ],
   "source": [
    "W_3, mse_3, score_3 = my_grad_desc_reg(X, y, alpha=0.001, tol=0.00001, lambda_=0.0000001)"
   ]
  },
  {
   "cell_type": "code",
   "execution_count": 16,
   "metadata": {},
   "outputs": [],
   "source": [
    "def my_sgd_reg(X, y, alpha=1e-04, batch_size=1, n_epoch=1e+06, verbose=False, tol=0.0, lambda_=0.0):\n",
    "    '''\n",
    "    added L2 regularization\n",
    "    :param X: features array\n",
    "    :param y: target array\n",
    "    :param alpha: learning rate, float default=1e-04\n",
    "    :param batch_size: bath_size, int default=1\n",
    "    :param n_epoh: number of training epochs, int default=1e+06\n",
    "    :param verbose: prints progress and performance once in a while, bool default False\n",
    "    :param tol: when mse is not improving by at least tol, the searching stops, float default 0.0\n",
    "    :param lambda_: regularization factor float default 0.0\n",
    "    :return: weights array, mse\n",
    "    the function stops when the tol or n_epoch parameter is reached\n",
    "    \n",
    "    '''\n",
    "    n = X.shape[0]\n",
    "    W = np.random.randn(X.shape[1], )  # задаём начальное значение весов\n",
    "    n_batch = n // batch_size  # определяем количество батчей\n",
    "    if n % batch_size != 0:\n",
    "        n_batch += 1\n",
    "    min_err = float('inf')  #начальное значение ошибки модели - бесконечность\n",
    "    n_iter = 0  # отслеживаем количество итераций\n",
    "    stop_chek = True  #будем чекать снижение ошибки\n",
    "    errors = []  # добавлено для визуализации кривой обучения\n",
    "    while stop_chek:\n",
    "        n_iter += 1\n",
    "        for b in range(n_batch):\n",
    "            start_ = batch_size * b\n",
    "            end_ = batch_size * (b + 1)\n",
    "            X_tmp = X.T[:, start_: end_]\n",
    "            y_tmp = y[start_: end_]\n",
    "            y_pred = W @ X_tmp\n",
    "            err = calc_mse(y_tmp, y_pred)+lambda_*euclid(W) # добавляем в расчет ошибки фактор L2 регуляризации\n",
    "            W -= alpha * (1 / n * 2 * (y_pred - y_tmp) @ X_tmp.T)+lambda_*W\n",
    "        errors.append(err)\n",
    "        if verbose:\n",
    "            if n_iter % 1000 == 0:\n",
    "                print(n_iter, W, err)\n",
    "        if n_iter==n_epoch:                      # остановка по достижении n_epoch\n",
    "            print(\n",
    "                f'Stop descent! n_epoch: {n_iter}, weights: {W}, mse: {min_err}')\n",
    "            stop_chek = False\n",
    "        if np.abs(min_err - err) > tol:          # контролируем текущее значение ошибки\n",
    "            min_err = err if err<=min_err else min_err\n",
    "        else:                                    # остановка по достижении tol\n",
    "            print(\n",
    "                f'Stop descent! n_epoch: {n_iter}, weights: {W}, mse: {min_err}')\n",
    "            stop_chek = False\n",
    "        \n",
    "    return W, min_err, errors"
   ]
  },
  {
   "cell_type": "code",
   "execution_count": 17,
   "metadata": {
    "scrolled": true
   },
   "outputs": [
    {
     "name": "stdout",
     "output_type": "stream",
     "text": [
      "Stop descent! n_epoch: 5546, weights: [17.03404627 54.2691217   4.61467112 63.01581209 92.75091565 70.94889723\n",
      " 86.45286648  9.8314564   3.61196123 70.22029774], mse: 14.569553690483753\n"
     ]
    }
   ],
   "source": [
    "W_4, mse_4, score_4 = my_sgd_reg(X, y, alpha=0.001, batch_size=1, n_epoch=8000, tol=0.00001, lambda_=0.0000001)"
   ]
  },
  {
   "cell_type": "markdown",
   "metadata": {},
   "source": [
    "Сравним полученные результаты:"
   ]
  },
  {
   "cell_type": "code",
   "execution_count": 18,
   "metadata": {},
   "outputs": [
    {
     "data": {
      "text/html": [
       "<div>\n",
       "<style scoped>\n",
       "    .dataframe tbody tr th:only-of-type {\n",
       "        vertical-align: middle;\n",
       "    }\n",
       "\n",
       "    .dataframe tbody tr th {\n",
       "        vertical-align: top;\n",
       "    }\n",
       "\n",
       "    .dataframe thead th {\n",
       "        text-align: right;\n",
       "    }\n",
       "</style>\n",
       "<table border=\"1\" class=\"dataframe\">\n",
       "  <thead>\n",
       "    <tr style=\"text-align: right;\">\n",
       "      <th></th>\n",
       "      <th>methods</th>\n",
       "      <th>$\\lambda$-coeff</th>\n",
       "      <th>tol-value</th>\n",
       "      <th>iterations</th>\n",
       "      <th>err-value</th>\n",
       "    </tr>\n",
       "  </thead>\n",
       "  <tbody>\n",
       "    <tr>\n",
       "      <th>0</th>\n",
       "      <td>GD</td>\n",
       "      <td>NaN</td>\n",
       "      <td>0.00001</td>\n",
       "      <td>6764</td>\n",
       "      <td>14.301230</td>\n",
       "    </tr>\n",
       "    <tr>\n",
       "      <th>1</th>\n",
       "      <td>SGD</td>\n",
       "      <td>NaN</td>\n",
       "      <td>0.00001</td>\n",
       "      <td>5546</td>\n",
       "      <td>11.000495</td>\n",
       "    </tr>\n",
       "    <tr>\n",
       "      <th>2</th>\n",
       "      <td>GD + L2</td>\n",
       "      <td>0.001</td>\n",
       "      <td>0.00001</td>\n",
       "      <td>6794</td>\n",
       "      <td>14.301639</td>\n",
       "    </tr>\n",
       "    <tr>\n",
       "      <th>3</th>\n",
       "      <td>SGD + L2</td>\n",
       "      <td>0.001</td>\n",
       "      <td>0.00001</td>\n",
       "      <td>5546</td>\n",
       "      <td>14.569544</td>\n",
       "    </tr>\n",
       "  </tbody>\n",
       "</table>\n",
       "</div>"
      ],
      "text/plain": [
       "    methods  $\\lambda$-coeff  tol-value  iterations  err-value\n",
       "0        GD              NaN    0.00001        6764  14.301230\n",
       "1       SGD              NaN    0.00001        5546  11.000495\n",
       "2   GD + L2            0.001    0.00001        6794  14.301639\n",
       "3  SGD + L2            0.001    0.00001        5546  14.569544"
      ]
     },
     "execution_count": 18,
     "metadata": {},
     "output_type": "execute_result"
    }
   ],
   "source": [
    "df=pd.DataFrame(\n",
    "    {\n",
    "        'methods':['GD', 'SGD','GD + L2','SGD + L2'],\n",
    "        r'$\\lambda$-coeff':[None,None,0.001,0.001],\n",
    "        'tol-value': 0.00001,\n",
    "        'iterations': [len(it) for it in [score_1, score_2, score_3,score_4]],\n",
    "        'err-value': [it[-1] for it in [score_1, score_2, score_3,score_4]]\n",
    "    }\n",
    ")\n",
    "df"
   ]
  },
  {
   "cell_type": "markdown",
   "metadata": {},
   "source": [
    "Сравним изменение весов:"
   ]
  },
  {
   "cell_type": "code",
   "execution_count": 19,
   "metadata": {},
   "outputs": [
    {
     "data": {
      "text/html": [
       "<div>\n",
       "<style scoped>\n",
       "    .dataframe tbody tr th:only-of-type {\n",
       "        vertical-align: middle;\n",
       "    }\n",
       "\n",
       "    .dataframe tbody tr th {\n",
       "        vertical-align: top;\n",
       "    }\n",
       "\n",
       "    .dataframe thead th {\n",
       "        text-align: right;\n",
       "    }\n",
       "</style>\n",
       "<table border=\"1\" class=\"dataframe\">\n",
       "  <thead>\n",
       "    <tr style=\"text-align: right;\">\n",
       "      <th></th>\n",
       "      <th>GD</th>\n",
       "      <th>SGD</th>\n",
       "      <th>GD + L2</th>\n",
       "      <th>SGD + L2</th>\n",
       "    </tr>\n",
       "  </thead>\n",
       "  <tbody>\n",
       "    <tr>\n",
       "      <th>weigt0</th>\n",
       "      <td>17.018610</td>\n",
       "      <td>17.035999</td>\n",
       "      <td>17.018552</td>\n",
       "      <td>17.034046</td>\n",
       "    </tr>\n",
       "    <tr>\n",
       "      <th>weigt1</th>\n",
       "      <td>54.470108</td>\n",
       "      <td>54.518711</td>\n",
       "      <td>54.466811</td>\n",
       "      <td>54.269122</td>\n",
       "    </tr>\n",
       "    <tr>\n",
       "      <th>weigt2</th>\n",
       "      <td>4.754276</td>\n",
       "      <td>4.687610</td>\n",
       "      <td>4.754552</td>\n",
       "      <td>4.614671</td>\n",
       "    </tr>\n",
       "    <tr>\n",
       "      <th>weigt3</th>\n",
       "      <td>63.309766</td>\n",
       "      <td>63.309072</td>\n",
       "      <td>63.306726</td>\n",
       "      <td>63.015812</td>\n",
       "    </tr>\n",
       "    <tr>\n",
       "      <th>weigt4</th>\n",
       "      <td>93.397910</td>\n",
       "      <td>93.332516</td>\n",
       "      <td>93.392922</td>\n",
       "      <td>92.750916</td>\n",
       "    </tr>\n",
       "    <tr>\n",
       "      <th>weigt5</th>\n",
       "      <td>71.041466</td>\n",
       "      <td>71.125059</td>\n",
       "      <td>71.038555</td>\n",
       "      <td>70.948897</td>\n",
       "    </tr>\n",
       "    <tr>\n",
       "      <th>weigt6</th>\n",
       "      <td>86.985827</td>\n",
       "      <td>86.895977</td>\n",
       "      <td>86.982703</td>\n",
       "      <td>86.452866</td>\n",
       "    </tr>\n",
       "    <tr>\n",
       "      <th>weigt7</th>\n",
       "      <td>10.236491</td>\n",
       "      <td>10.136647</td>\n",
       "      <td>10.234843</td>\n",
       "      <td>9.831456</td>\n",
       "    </tr>\n",
       "    <tr>\n",
       "      <th>weigt8</th>\n",
       "      <td>3.511151</td>\n",
       "      <td>3.538656</td>\n",
       "      <td>3.511569</td>\n",
       "      <td>3.611961</td>\n",
       "    </tr>\n",
       "    <tr>\n",
       "      <th>weigt9</th>\n",
       "      <td>70.812304</td>\n",
       "      <td>70.698167</td>\n",
       "      <td>70.808966</td>\n",
       "      <td>70.220298</td>\n",
       "    </tr>\n",
       "  </tbody>\n",
       "</table>\n",
       "</div>"
      ],
      "text/plain": [
       "               GD        SGD    GD + L2   SGD + L2\n",
       "weigt0  17.018610  17.035999  17.018552  17.034046\n",
       "weigt1  54.470108  54.518711  54.466811  54.269122\n",
       "weigt2   4.754276   4.687610   4.754552   4.614671\n",
       "weigt3  63.309766  63.309072  63.306726  63.015812\n",
       "weigt4  93.397910  93.332516  93.392922  92.750916\n",
       "weigt5  71.041466  71.125059  71.038555  70.948897\n",
       "weigt6  86.985827  86.895977  86.982703  86.452866\n",
       "weigt7  10.236491  10.136647  10.234843   9.831456\n",
       "weigt8   3.511151   3.538656   3.511569   3.611961\n",
       "weigt9  70.812304  70.698167  70.808966  70.220298"
      ]
     },
     "execution_count": 19,
     "metadata": {},
     "output_type": "execute_result"
    }
   ],
   "source": [
    "df2=pd.DataFrame({'GD':W_1, 'SGD':W_2,'GD + L2':W_3,'SGD + L2':W_4}, index=['weigt'+str(i) for i in range(10)])\n",
    "df2"
   ]
  },
  {
   "cell_type": "markdown",
   "metadata": {},
   "source": [
    "На графике значения \"слипаются\""
   ]
  },
  {
   "cell_type": "code",
   "execution_count": 20,
   "metadata": {
    "scrolled": true
   },
   "outputs": [
    {
     "data": {
      "image/png": "[encoded data removed]",
      "text/plain": [
       "<Figure size 1152x720 with 1 Axes>"
      ]
     },
     "metadata": {
      "needs_background": "light"
     },
     "output_type": "display_data"
    }
   ],
   "source": [
    "plt.figure(figsize=(16, 10))\n",
    "plt.ylim((0,np.max([np.max(score_2),np.max(score_4)])))\n",
    "plt.xlim((0,np.max([len(score_1), len(score_2), len(score_3), len(score_4)])-1000))\n",
    "plt.plot([x for x in range(1, len(score_1) + 1)], score_1, label='GD-method')\n",
    "plt.plot([x for x in range(1, len(score_2) + 1)], score_2, c='r', label='SGD-method')\n",
    "plt.plot([x for x in range(1, len(score_3) + 1)], score_3, label='GD-method with L2')\n",
    "plt.plot([x for x in range(1, len(score_4) + 1)], score_4, label='SGD-method with L2')\n",
    "plt.axhline(mse_default, c='gray', ls='--', label=r'calculated indicator $MSE$', mew=0.9)\n",
    "plt.xticks(list(plt.xticks()[0])+[len(score_1), len(score_2), len(score_3), len(score_4)])\n",
    "plt.xlabel('iteratoin number')\n",
    "plt.ylabel(r'$MSE$')\n",
    "plt.legend()\n",
    "plt.show()"
   ]
  },
  {
   "cell_type": "code",
   "execution_count": null,
   "metadata": {},
   "outputs": [],
   "source": []
  }
 ],
 "metadata": {
  "kernelspec": {
   "display_name": "Python 3",
   "language": "python",
   "name": "python3"
  },
  "language_info": {
   "codemirror_mode": {
    "name": "ipython",
    "version": 3
   },
   "file_extension": ".py",
   "mimetype": "text/x-python",
   "name": "python",
   "nbconvert_exporter": "python",
   "pygments_lexer": "ipython3",
   "version": "3.10.6"
  },
  "vscode": {
   "interpreter": {
    "hash": "916dbcbb3f70747c44a77c7bcd40155683ae19c65e1c03b4aa3499c5328201f1"
   }
  }
 },
 "nbformat": 4,
 "nbformat_minor": 1
}
